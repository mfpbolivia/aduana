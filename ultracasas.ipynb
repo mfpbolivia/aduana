from bs4 import BeautifulSoup    # Selector de componentes
import requests                # Peticiones a la página web
from datetime import datetime  # Conversión de fechas
import numpy as np             # Cálculos numéricos
import pandas as pd # Manipulación de datos     
from random import randint
from time import sleep
